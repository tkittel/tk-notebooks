{
 "cells": [
  {
   "cell_type": "markdown",
   "id": "0",
   "metadata": {
    "tags": []
   },
   "source": [
    "# Introduction and basic usage of the NCrystal Python API\n",
    "\n",
    "This notebook describes the basic typical usage of NCrystal Python API, and lays the foundation for further more detailed tutorials."
   ]
  },
  {
   "cell_type": "markdown",
   "id": "1",
   "metadata": {
    "tags": []
   },
   "source": [
    "## Preamble\n",
    "Install dependencies and prepare plots. Feel free to edit as you wish:"
   ]
  },
  {
   "cell_type": "code",
   "execution_count": null,
   "id": "2",
   "metadata": {
    "tags": []
   },
   "outputs": [],
   "source": [
    "#By default we only do pip installs on Google Colab, but you\n",
    "#can set the variable in the next line to True if you need it:\n",
    "always_do_pip_installs = False\n",
    "try:\n",
    "    import google.colab as google_colab\n",
    "except ModuleNotFoundError:\n",
    "    google_colab=None#not on google colab\n",
    "if always_do_pip_installs or google_colab:\n",
    "    from importlib.util import find_spec as _fs\n",
    "    if not _fs('NCrystal'):\n",
    "        %pip -q install ncrystal ipympl numpy matplotlib\n",
    "#enable inline and interactive matplotlib plots:\n",
    "if google_colab:\n",
    "    google_colab.output.enable_custom_widget_manager()\n",
    "%matplotlib ipympl\n",
    "import matplotlib\n",
    "matplotlib.rcParams.update({\"figure.autolayout\": True})\n",
    "#always import NCrystal:\n",
    "import NCrystal as NC\n",
    "assert NC.version_num >=  3009006, \"too old NCrystal found\"\n",
    "NC.test() #< quick unit test that installation works"
   ]
  },
  {
   "cell_type": "markdown",
   "id": "3",
   "metadata": {},
   "source": [
    "## Using basic NCrystal objects\n",
    "Jumping right into it, let us load a material defined by a *cfg-string* and plot the cross sections. Most often, a cfg-string is a data file name, and perhaps some parameters - like for setting the temperature:"
   ]
  },
  {
   "cell_type": "code",
   "execution_count": null,
   "id": "4",
   "metadata": {
    "tags": []
   },
   "outputs": [],
   "source": [
    "mat = NC.load('Al_sg225.ncmat;temp=10C')"
   ]
  },
  {
   "cell_type": "markdown",
   "id": "5",
   "metadata": {},
   "source": [
    "In reality, the `NC.load` call in the previous line has actually combined into `mat` three kinds of NCrystal objects, that together provides all the information and capabilities that NCrystal provides for that material: An `Info` object, a `Scatter` object and an `Absorption` object. The `Info` object provides general information about the material like density and composition, as well as details about the static structure and dynamics of the material. The `Scatter` and `Absorption` objects provides algorithms concerning neutron interactions in the material. The `mat` object itself contains a few convenience utilities. For instance, we can inspect neutron cross section values:"
   ]
  },
  {
   "cell_type": "code",
   "execution_count": null,
   "id": "6",
   "metadata": {
    "tags": []
   },
   "outputs": [],
   "source": [
    "mat.plot()"
   ]
  },
  {
   "cell_type": "markdown",
   "id": "7",
   "metadata": {},
   "source": [
    "The entire Python API of NCrystal is enriched with doc-strings for inline help, let us learn more about this `mat` material object:"
   ]
  },
  {
   "cell_type": "code",
   "execution_count": null,
   "id": "8",
   "metadata": {
    "tags": []
   },
   "outputs": [],
   "source": [
    "help(mat)"
   ]
  },
  {
   "cell_type": "markdown",
   "id": "9",
   "metadata": {},
   "source": [
    "Indeed, we can see that there are essentially `.info`, `.absorption`, and `.scatter` objects as properties as well as convenience methods `.plot()`, `.dump()`, `.xsect(..)` and `.macroscopic_xsect(..)`. The two latter sums up cross sections of the `.absorption` and `.scatter` objects. We check that we can access the more fundamental objects:"
   ]
  },
  {
   "cell_type": "code",
   "execution_count": null,
   "id": "10",
   "metadata": {
    "tags": []
   },
   "outputs": [],
   "source": [
    "print( mat.info )\n",
    "print( mat.scatter )\n",
    "print( mat.absorption )"
   ]
  },
  {
   "cell_type": "markdown",
   "id": "11",
   "metadata": {},
   "source": [
    "And here we request a brief printout of the three objects:"
   ]
  },
  {
   "cell_type": "code",
   "execution_count": null,
   "id": "12",
   "metadata": {
    "tags": []
   },
   "outputs": [],
   "source": [
    "mat.dump()"
   ]
  },
  {
   "cell_type": "markdown",
   "id": "13",
   "metadata": {},
   "source": [
    "The `NC.load(..)` method is merely a convenience method for interactive work. If you only need a particular object you can instead call `createInfo`. `createScatter` or `createAbsorption` directly:"
   ]
  },
  {
   "cell_type": "code",
   "execution_count": null,
   "id": "14",
   "metadata": {
    "tags": []
   },
   "outputs": [],
   "source": [
    "info_Al = NC.createInfo('Al_sg225.ncmat')\n",
    "info_Al.dump()"
   ]
  },
  {
   "cell_type": "markdown",
   "id": "15",
   "metadata": {},
   "source": [
    "If you are interested in getting a bit more info, you can increase the verbosity (up to 2). This will affect the HKL listing and (for very complex materials) the list of atom positions:"
   ]
  },
  {
   "cell_type": "code",
   "execution_count": null,
   "id": "16",
   "metadata": {
    "tags": []
   },
   "outputs": [],
   "source": [
    "info_Al.dump(verbose=1)"
   ]
  },
  {
   "cell_type": "markdown",
   "id": "17",
   "metadata": {
    "tags": []
   },
   "source": [
    "For more rich plotting of cross sections, the `plot_xsects` and `plot_xsect` functions from the `NCrystal.plot` module can be used. For instance, dive into the different scattering cross section components:"
   ]
  },
  {
   "cell_type": "code",
   "execution_count": null,
   "id": "18",
   "metadata": {
    "tags": []
   },
   "outputs": [],
   "source": [
    "import NCrystal.plot as ncplot\n",
    "ncplot.plot_xsect('Al_sg225.ncmat')#supply the argument show_absorption=False to hide absorption"
   ]
  },
  {
   "cell_type": "markdown",
   "id": "19",
   "metadata": {},
   "source": [
    "Or perhaps you prefer macroscopic cross sections (a.k.a. inverse penetration depth). It is of course just scaled with the number density (atoms/volume) so only the Y-axis scale and text changes:"
   ]
  },
  {
   "cell_type": "code",
   "execution_count": null,
   "id": "20",
   "metadata": {
    "tags": []
   },
   "outputs": [],
   "source": [
    "ncplot.plot_xsect('Al_sg225.ncmat',xsmode='macroscopic')"
   ]
  },
  {
   "cell_type": "markdown",
   "id": "21",
   "metadata": {
    "tags": []
   },
   "source": [
    "If you wish to overlay different materials and compare cross sections, you have to use the `plot_xsects` (plural `s` at the end) function instead:"
   ]
  },
  {
   "cell_type": "code",
   "execution_count": null,
   "id": "22",
   "metadata": {
    "tags": []
   },
   "outputs": [],
   "source": [
    "ncplot.plot_xsects('Al_sg225.ncmat;temp=100K',\n",
    "                   'Al_sg225.ncmat;temp=300K',\n",
    "                   'Al_sg225.ncmat;temp=500K')"
   ]
  },
  {
   "cell_type": "markdown",
   "id": "23",
   "metadata": {
    "tags": []
   },
   "source": [
    "## Simple usage of Scatter or Absorption objects\n",
    "\n",
    "If you need to extract cross section values, you can do so with the `Scatter` and `Absorption` objects. Note that NCrystal use electronvolt (eV) and angstrom (Å) as default units for energy and lengths respectively:"
   ]
  },
  {
   "cell_type": "code",
   "execution_count": null,
   "id": "24",
   "metadata": {
    "tags": []
   },
   "outputs": [],
   "source": [
    "scatter_Al = NC.createScatter('Al_sg225.ncmat')#NB: default temperature for most materials is 293.15K\n",
    "print( '%g barn'%scatter_Al.xsect(wl=1.8) )#query at a single neutron wavelength\n",
    "print( '%g eV'%NC.wl2ekin(1.8) )#NB: ekin2wl exists as well, plus many more conversion fcts in NCrystal.constants module\n",
    "print( '%g barn'%scatter_Al.xsect(ekin=0.025248212841151512) )#query at a single neutron energy"
   ]
  },
  {
   "cell_type": "markdown",
   "id": "25",
   "metadata": {
    "tags": []
   },
   "source": [
    "We can use numpy arrays as well:"
   ]
  },
  {
   "cell_type": "code",
   "execution_count": null,
   "id": "26",
   "metadata": {
    "tags": []
   },
   "outputs": [],
   "source": [
    "import numpy\n",
    "wavelengths = numpy.linspace(0.0,10.0,20)\n",
    "print( wavelengths )\n",
    "print( scatter_Al.xsect(wl=wavelengths) )"
   ]
  },
  {
   "cell_type": "markdown",
   "id": "27",
   "metadata": {},
   "source": [
    "To extract single components, we must create a scatter instance with just that component, using the cfg-string parameter `comp` (+changing the temperature to show the usage of multiple parameters):"
   ]
  },
  {
   "cell_type": "code",
   "execution_count": null,
   "id": "28",
   "metadata": {
    "tags": []
   },
   "outputs": [],
   "source": [
    "scatter_Al_only_bragg = NC.createScatter('Al_sg225.ncmat;comp=bragg;temp=100K')\n",
    "print( '%g barn'%scatter_Al_only_bragg.xsect(wl=4.0) )\n",
    "scatter_Al_only_bragg.plot()"
   ]
  },
  {
   "cell_type": "markdown",
   "id": "29",
   "metadata": {
    "tags": []
   },
   "source": [
    "In addition to extracting cross sections with both `Scatter` and `Absorption` objects, one can of course also use a `Scatter` object to perform random sampling of scattering events by using the `.scatter` method. As usual, we can use the builtin `help` function to figure out how:"
   ]
  },
  {
   "cell_type": "code",
   "execution_count": null,
   "id": "30",
   "metadata": {
    "tags": []
   },
   "outputs": [],
   "source": [
    "help(scatter_Al)\n",
    "help(scatter_Al.scatter)\n",
    "help(scatter_Al.sampleScatterIsotropic)"
   ]
  },
  {
   "cell_type": "markdown",
   "id": "31",
   "metadata": {},
   "source": [
    "And we can do a little plot of scattering events for a 1.8Å neutron (assuming a very thin material with no multiple scattering):"
   ]
  },
  {
   "cell_type": "code",
   "execution_count": null,
   "id": "32",
   "metadata": {
    "tags": []
   },
   "outputs": [],
   "source": [
    "ekin_i = NC.wl2ekin(1.8)\n",
    "ekin_f, mu = scatter_Al.scatter(ekin=ekin_i,repeat=int(1e6))\n",
    "import matplotlib\n",
    "import matplotlib.pyplot as plt\n",
    "plt.figure()\n",
    "plt.hist2d((ekin_f-ekin_i)*1000,mu,\n",
    "           bins=80,\n",
    "           norm=matplotlib.colors.LogNorm())\n",
    "plt.ylim(-1,1)\n",
    "plt.ylabel('cosine-scatter-angle')\n",
    "plt.xlabel(r'$\\Delta$E (meV)')\n",
    "plt.show()\n",
    "plt.figure()\n",
    "plt.hist(mu,bins=80)\n",
    "plt.semilogy()\n",
    "plt.xlabel('cosine-scatter-angle')\n",
    "plt.show()"
   ]
  },
  {
   "cell_type": "markdown",
   "id": "33",
   "metadata": {
    "tags": []
   },
   "source": [
    "## Simple usage of Info objects\n",
    "The `Info` object contain a range of supplementary information about the loaded material. Most notably it includes information about the material density and composition, but other information such as for instance Bragg diffraction structure factors (\"HKL lists\") or phonon DOS curves, can be access as well. See `help(NC.Info)` for complete details, here we will show a few examples:"
   ]
  },
  {
   "cell_type": "code",
   "execution_count": null,
   "id": "34",
   "metadata": {
    "tags": []
   },
   "outputs": [],
   "source": [
    "info = NC.createInfo('Al2O3_sg167_Corundum.ncmat')"
   ]
  },
  {
   "cell_type": "code",
   "execution_count": null,
   "id": "35",
   "metadata": {
    "tags": []
   },
   "outputs": [],
   "source": [
    "info.dump()"
   ]
  },
  {
   "cell_type": "code",
   "execution_count": null,
   "id": "36",
   "metadata": {
    "tags": []
   },
   "outputs": [],
   "source": [
    "help(info)"
   ]
  },
  {
   "cell_type": "code",
   "execution_count": null,
   "id": "37",
   "metadata": {
    "tags": []
   },
   "outputs": [],
   "source": [
    "info.composition"
   ]
  },
  {
   "cell_type": "code",
   "execution_count": null,
   "id": "38",
   "metadata": {
    "tags": []
   },
   "outputs": [],
   "source": [
    "for di in info.dyninfos:\n",
    "    print(di)"
   ]
  },
  {
   "cell_type": "code",
   "execution_count": null,
   "id": "39",
   "metadata": {
    "tags": []
   },
   "outputs": [],
   "source": [
    "info.findDynInfo('Al').plot_vdos(unit='THz')#default unit is eV"
   ]
  },
  {
   "cell_type": "markdown",
   "id": "40",
   "metadata": {},
   "source": [
    "Or, perhaps you want to see the S(alpha,beta) (a.k.a. S(q,omega)) scattering kernel that this phonon DOS expands to?:"
   ]
  },
  {
   "cell_type": "code",
   "execution_count": null,
   "id": "41",
   "metadata": {},
   "outputs": [],
   "source": [
    "di.plot_knl(clim=(0,0.2),xlim=(0,500),ylim=(-40,20),phasespace_curves=[1.0])#with 1.0eV neutron kinematic limit shown\n",
    "di.plot_knl(clim=(0,0.2),xlim=(0,50),ylim=(-4,2),phasespace_curves=[NC.wl2ekin(1.0)])#with 1.0Å neutron kinematic limit shown"
   ]
  },
  {
   "cell_type": "code",
   "execution_count": null,
   "id": "42",
   "metadata": {
    "tags": []
   },
   "outputs": [],
   "source": [
    "for ai in info.atominfos:\n",
    "    print(ai)"
   ]
  },
  {
   "cell_type": "code",
   "execution_count": null,
   "id": "43",
   "metadata": {
    "tags": []
   },
   "outputs": [],
   "source": [
    "import pprint\n",
    "pprint.pprint(info.findAtomInfo('Al').positions)"
   ]
  },
  {
   "cell_type": "code",
   "execution_count": null,
   "id": "44",
   "metadata": {
    "tags": []
   },
   "outputs": [],
   "source": [
    "print(info.braggthreshold,'Aa')\n",
    "print(info.density,'g/cm3')\n",
    "print(info.numberdensity,'atoms/Aa^3')\n",
    "print(info.sld,'10^-6/Aa^2')"
   ]
  },
  {
   "cell_type": "markdown",
   "id": "45",
   "metadata": {},
   "source": [
    "For the list of HKL reflection planes, one can access them via the `.hklList()` or `.hklObjects()` methods. Note that both of them yield the planes with the longer d-spacings first, so you can always break out of the loop if you wish to forego the planes with shorter d-spacing:"
   ]
  },
  {
   "cell_type": "code",
   "execution_count": null,
   "id": "46",
   "metadata": {},
   "outputs": [],
   "source": [
    "for hkl in info.hklObjects():\n",
    "    if hkl.d < 2.2:\n",
    "        break\n",
    "    print('-----------------------')\n",
    "    #print the label, dyspacing, structure factor and multiplicity:\n",
    "    print(hkl)\n",
    "    #Access values as needed:\n",
    "    print(f'   d = {hkl.d:g} Aa')\n",
    "    print(f'   F^2 = {hkl.f2:g} barn')\n",
    "    print(f'   multiplicity = {hkl.mult}')\n",
    "    for h,l,k in zip(hkl.h,hkl.k,hkl.l):\n",
    "        print(f'   hkl = {h}, {k}, {l}')"
   ]
  },
  {
   "cell_type": "markdown",
   "id": "47",
   "metadata": {},
   "source": [
    "As usual we can use the builtin documentation for these objects (using the `next(..)` function to get help for an hkl entry and not for the generator):"
   ]
  },
  {
   "cell_type": "code",
   "execution_count": null,
   "id": "48",
   "metadata": {},
   "outputs": [],
   "source": [
    "help(next(info.hklObjects()))"
   ]
  },
  {
   "attachments": {},
   "cell_type": "markdown",
   "id": "49",
   "metadata": {},
   "source": [
    "## More about cfg-strings\n",
    "As you have seen, a single NCrystal *cfg-string* like `\"somefile.ncmat;par1=val1;par2=val2\"` is all that is required to define a material in NCrystal. This is perhaps not very object-oriented or pythonic, but has the advantage that the same string can be used to define a material in a multitude of contexts:\n",
    "\n",
    "* In Python\n",
    "* On the command-line\n",
    "* On a webpage, in an email to a colleage, etc.\n",
    "* In OpenMC\n",
    "* In McStas\n",
    "* In McStasScript\n",
    "* In Geant4\n",
    "* ...\n",
    "\n",
    "Best of all (especially for the NCrystal developers), we can add a new cfg-string parameter without having to update all NCrystal-bindings for OpenMC/McStas/Geant4/... every time. As soon as we add the parameter in NCrystal, all users who have access to the latest NCrystal release, will automatically be able to use the new parameter.\n",
    "\n",
    "All the parameters are described in the wiki at https://github.com/mctools/ncrystal/wiki/CfgRefDoc but the most important ones are summarised here:\n",
    "\n",
    "### Most important cfg-parameters\n",
    "\n",
    "* **Temperature**:\n",
    "  - Examples: `temp=100`, `temp=100K`, `temp=-10C`, `temp=100F`\n",
    "  - All materials have a temperature, and it is not always 293.15! The `temp` parameter does exactly what you think it does. By default it assumes the value is in kelvin, but a unit can be added (must be one of `K`, `C`, or `F`.\n",
    "* **Density**\n",
    "  - Examples: `density=2.0gcm3`, `density=3.4kgm3`, `density=0.9x`.\n",
    "  - Also does what you think it does. The last example scales the density by a factor of 0.9.\n",
    "* **Scattering component toggling**\n",
    "  - Current recognised component names are `coh_elas` (alias `bragg`), `incoh_elas`, `sans`, and `inelas`. `elas` refers to all components except `inelas`.\n",
    "  - Syntax: `<compname>=0' (disable component), `comp=<compname1>,..,<compnamen>` (disable all but the listed components.\n",
    "  - Examples: `...;comp=inelas,sans` (only inelastic and SANS),`...;inelas=0` (without inelastic),`...;inelas=0;comp=inelas` (oups, removed all components)\n",
    "* **Modify atomic compositions**\n",
    "  - Examples: `atomdb=H is D`, `atomdb=Al:is:0.9:Al:0.1:Cr`, `atomdb=Si29:28.97649466525u:4.7fm:0.001b:0.101b`, ...\n",
    "* **Single crystal parameters**:\n",
    "  - Single crystal models and orientations are primarily controlled by the parameters `mos`, `dir1`, `dir2`, and `dirtol`. Refer to the documentation linked above, and see the example in the next notebook.\n"
   ]
  },
  {
   "cell_type": "markdown",
   "id": "50",
   "metadata": {},
   "source": [
    "For reference, it should be noted that you can also access information about the cfg-string parameters via built-in documentation:\n",
    "```python\n",
    "print(NC.generateCfgStrDoc()\n",
    "```\n",
    "Or from the command-line (supply `--doc --doc` twice to get full information):\n",
    "```bash\n",
    "$> nctool --doc --doc\n",
    "```"
   ]
  },
  {
   "cell_type": "markdown",
   "id": "51",
   "metadata": {},
   "source": [
    "## The nctool (a.k.a. ncrystal_inspectfile) commandline utility\n",
    "If you are in working in a terminal, the `nctool` or `ncrystal_inspectfile` command (they are the exact same thing, but `nctool` is the future-proof name) provides a convenient interface to a lot of the most common tasks an NCrystal user might need, when composing a cfg-string for their simulation:\n",
    "\n",
    "* Load the material and do cross section (or scattering) plots or information dumps to the terminal.\n",
    "  * Investigate the effect of different cfg-parameters.\n",
    "* Browse available files.\n",
    "* Extract content of files (including virtual files)\n",
    "* Quickly unit test an installation\n",
    "\n",
    "The `nctool` command, **like all NCrystal cmdline tools** contain embedded documentation, accessible by the `--help` flag:"
   ]
  },
  {
   "cell_type": "code",
   "execution_count": null,
   "id": "52",
   "metadata": {
    "tags": []
   },
   "outputs": [],
   "source": [
    "!nctool --help"
   ]
  },
  {
   "cell_type": "code",
   "execution_count": null,
   "id": "53",
   "metadata": {
    "tags": []
   },
   "outputs": [],
   "source": [
    "!nctool --dump \"Al_sg225.ncmat;temp=200K\""
   ]
  },
  {
   "cell_type": "code",
   "execution_count": null,
   "id": "54",
   "metadata": {
    "tags": []
   },
   "outputs": [],
   "source": [
    "#Uncomment if you are OK with launching new windows with plots (and it might not work depending on how you run the notebook, but you can always try to run the command in a terminal window)\n",
    "#!nctool \"Al_sg225.ncmat;temp=200K\""
   ]
  },
  {
   "cell_type": "code",
   "execution_count": null,
   "id": "55",
   "metadata": {
    "tags": []
   },
   "outputs": [],
   "source": [
    "#Uncomment if you are OK with launching new windows with plots (and it might not work depending on how you run the notebook, but you can always try to run the command in a terminal window)\n",
    "#!nctool \"Be_sg194.ncmat;temp=80K\" \"Be_sg194.ncmat;temp=150K\" \"Be_sg194.ncmat;temp=300K\" --energy"
   ]
  },
  {
   "cell_type": "code",
   "execution_count": null,
   "id": "56",
   "metadata": {
    "tags": []
   },
   "outputs": [],
   "source": [
    "!nctool --browse"
   ]
  },
  {
   "cell_type": "code",
   "execution_count": null,
   "id": "57",
   "metadata": {
    "tags": []
   },
   "outputs": [],
   "source": [
    "!nctool --extract Al_sg225.ncmat"
   ]
  },
  {
   "cell_type": "markdown",
   "id": "58",
   "metadata": {},
   "source": [
    "## Multiphase materials\n"
   ]
  },
  {
   "cell_type": "markdown",
   "id": "59",
   "metadata": {
    "tags": []
   },
   "source": [
    "Multiphase materials can be composed in cfg-strings from existing materials the following `\"phases<...>\"` cfg-string syntax, listing the desired phases and their **volume** (not mass) fraction. This is as easy as:\n",
    "```\n",
    "   \"phases<0.1*PbS_sg225_LeadSulfide.ncmat&0.9*Epoxy_Araldite506_C18H20O3.ncmat>\"\n",
    "```\n",
    "Cfg-parameters can be applied as always, affecting either a single phase or all phases depending on placement. For instance, in the following (somewhat silly) material the temperature of 300K applies to all phases, while the d-spacing cutoff only affects the aluminium:\n",
    "```\n",
    "   \"phases<0.25*Al_sg225.ncmat;dcutoff=0.4&0.75*Be_sg194.ncmat>;temp=300K\"\n",
    "```\n",
    "Note that whitespace is allowed, if you feel it provides a more readable string Also note that the `\"phases<>\"` syntax has been chosen specifically to support the use-case that one can always override parameters in cfg-strings by appending a simple string to them. For instance appending the string `\";temp=400K\"` to any cfg-string will override the temperature value - whether or not the cfg-string uses the `\"phases<...>\"` syntax or not.\n",
    "\n",
    "For convenience it is also possible to define multiple phases directly inside NCMAT data. Additionally, NCrystal also has framework-level support for SANS physics, which can be thought of as diffraction due to the geometric layouts of the individual phases. We shall see an example in another notebook."
   ]
  },
  {
   "cell_type": "markdown",
   "id": "60",
   "metadata": {
    "tags": []
   },
   "source": [
    "## Single crystal materials\n",
    "NCrystal supports both isotropic and anisotropic materials. Currently, the only anisotropic models shipped with NCrystal are mosaic single crystals. One is a more generally useful model of Gaussian mosaicity, and the other one is a dedicated one needed to support the special rotated distribution found in pyrolytic graphite (PG). The PG model is automatically enabled when the relevant data file (`C_sg194_pyrolytic_graphite.ncmat`) is used as a single crystal (if not used as a single crystal, it can be used as standard graphite).\n",
    "\n",
    "Technically, single crystal models are enabled by supplying the material with a mosaic spread (FWHM of the Gaussian mosaicity), and an orientation. The orientation must be specified by providing the coordinates of two vectors in both the crystal space (i.e. the unit cell coordinate system), and the \"lab\" space (i.e. where the neutron direction is defined). Specifically, we always need the `dir1`, `dir2`, and `mos` to be set, and there are a few other parameters that one might use to fine-tune the models. As always, see the documentation at https://github.com/mctools/ncrystal/wiki/CfgRefDoc .\n",
    "\n",
    "NCrystal does not provide a simple utility to quickly plot cross sections for anisotropic materials, since the cross sections in general depend on both neutron energy and direction. However, for the case of single crystals used as monochromators, one will often generate *rocking curves*, showing a neutron cross section as a function of incidence angle. If you execute the next code cell below, you will be able to study various monochromator profiles (and then click to the left of the code cell to collapse it and hide the actual code, unless you have a specific interest).\n",
    "\n",
    "As we can see, the assumption that a monochromator can always be described by a simplistic gaussian is not always very good - especially for neutrons at shorter wavelengths or in monochromators with higher mosaic spreads. Although it should in fairness be noted, that a real monochromator often is accompanied by some sort of angular selection (e.g. a collimator), which makes the plots below appear worse than they are. Still, single crystals can indeed be said to provide rather complicated and interesting cross sections!!"
   ]
  },
  {
   "cell_type": "code",
   "execution_count": null,
   "id": "61",
   "metadata": {
    "jupyter": {
     "source_hidden": true
    },
    "tags": []
   },
   "outputs": [],
   "source": [
    "#\n",
    "# The code in this cell is very long. You are only meant to study it if you\n",
    "# have a very specific interest in using single crystals, otherwise you should\n",
    "# simply click on the left to collapse the cell, and instead play with the resulting\n",
    "# interactive widget!\n",
    "#\n",
    "def get_rocking_curve_of_monochromator( *, dataname, hkl, mosaicity_degree, neutron_wl,\n",
    "                                        only_selected_plane, absorption ):\n",
    "    \"\"\"Extract the rocking curve as (delta_angle,xsect), of the given monochromator. We\n",
    "    assume the give HKL plane has it's normal orthogonal to the monochromator surface, and\n",
    "    call that the Z axis. If only_selected_plane=True, the curve will have no contributions\n",
    "    from other planes or non-Bragg physics.\"\"\"\n",
    "\n",
    "    import numpy as np\n",
    "    #Due to the directional parameters, cfg-strings can get a bit longer than usual when\n",
    "    #specifying single crystal orientations. Here we first put the material and specify\n",
    "    #the mosaic spread:\n",
    "    \n",
    "    cfgstr = f'{dataname};mos={mosaicity_degree}deg'\n",
    "    #Let us first put the chosen normal along the Z-axis in the lab:\n",
    "    cfgstr += ';dir1=@crys_hkl:%i,%i,%i@lab:0,0,1'%hkl\n",
    "    \n",
    "    #To completely fix the orientation, we need to provide a second direction as well.\n",
    "    #For this example we don't care, so we will simply provide a dummy direction. If\n",
    "    #we specify dirtol=180degrees, then we are effectively telling NCrystal to not\n",
    "    #complain when it discovers that the angle between dir1 and dir2 is not the same\n",
    "    #in the crystal and lab systems. Instead NCrystal will instead modify dir2 to a\n",
    "    #consistent value. Only requirement for this to work is that the dir2 and dir1\n",
    "    #directions are not parallel. In this simple example function we accomplish\n",
    "    #that by putting in some silly values:\n",
    "    cfgstr += ';dir2=@crys_hkl:0.134,0.456,0.6789@lab:0.134,0.456,0.6789'\n",
    "    cfgstr += ';dirtol=180deg'\n",
    "\n",
    "    #To figure out the ideal wavelength, we need to know the d-spacing of the chosen\n",
    "    #reflection plane. Naturally, NCrystal is ready to help:\n",
    "    d_hkl = NC.createInfo(cfgstr).dspacingFromHKL(*hkl)\n",
    "\n",
    "    #print(f\"Focusing on hkl={hkl} in {filename} with d_hkl={d_hkl:.14g} and neutron wl={neutron_wl}Aa\")\n",
    "    if not neutron_wl < 2*d_hkl:\n",
    "        print(f'Bragg diffraction on selected plane not possible since neutron_wl>2*d_hkl={2*d_hkl}Å')\n",
    "        return\n",
    "    \n",
    "    if only_selected_plane:\n",
    "        #Disable other physics, and remove planes not\n",
    "        #in a narrow range around the selected hkl:\n",
    "        cfgstr += ';comp=bragg'\n",
    "        cfgstr += f';dcutoff={(1-1e-9)*d_hkl}'\n",
    "        cfgstr += f';dcutoffup={(1+1e-9)*d_hkl}'\n",
    "    \n",
    "    #print(''.join(cfgstr.splitlines()))\n",
    "    mat = NC.load(cfgstr)\n",
    "    selectedhkl = []\n",
    "    if only_selected_plane:\n",
    "        for e in mat.info.hklList(all_indices=True):\n",
    "            selectedhkl += [(h,k,l) for h,k,l in zip(e[0],e[1],e[2])]\n",
    "\n",
    "    import numpy as np\n",
    "    mosaicity = mosaicity_degree*np.pi/180.;\n",
    "    thetabragg = np.arcsin( neutron_wl/(2*d_hkl) )\n",
    "    def xs_of_rocking_angle(rocking_angle):\n",
    "        th = thetabragg + rocking_angle\n",
    "        return mat.scatter.xsect( direction=(np.cos(th),0.0,np.sin(th)), wl=neutron_wl)\n",
    "    rocking_angles = np.linspace(-mosaicity*10,mosaicity*10,1000)\n",
    "    xs = np.vectorize(xs_of_rocking_angle)(rocking_angles)\n",
    "    if absorption:\n",
    "        xs += mat.absorption.xsect(wl=neutron_wl)\n",
    "    return dict(curve= ((rocking_angles+thetabragg)*180/np.pi,xs),\n",
    "                hkl=selectedhkl,\n",
    "                cfgstr=cfgstr,\n",
    "                dhkl=d_hkl)\n",
    "    \n",
    "materials =[('Ge_sg227.ncmat',((1,1,1),(1,1,3),(1,1,5),(3,3,5))),\n",
    "            ('C_sg194_pyrolytic_graphite.ncmat',((0,0,2),(0,0,4),(0,0,6),(0,0,8))),\n",
    "            ('Si_sg227.ncmat',((1,1,1),)),\n",
    "            ('Cu_sg225.ncmat',((1,1,1),(2,2,2),))]\n",
    "\n",
    "choices=[]\n",
    "for name,hkls in materials:\n",
    "    for hkl in hkls:\n",
    "        choices.append('hkl=%i%i%i %s'%(*hkl,name))\n",
    "        \n",
    "from ipywidgets import interact\n",
    "@interact(mode=choices,\n",
    "          mosaicity=['0.001 degree','0.1 degree','0.5 degree'],\n",
    "          neutron_wavelength=['0.8Å','1.8Å','6Å'])\n",
    "def plot_rocking_curve(mode='',mosaicity='0.1 degree',neutron_wavelength='1.8Å'):\n",
    "    import matplotlib.pyplot as plt\n",
    "    plt.figure('sc_rocking_curve')\n",
    "    plt.clf()\n",
    "    neutron_wl=float(neutron_wavelength[:-1])\n",
    "    dataname=mode.split()[1]\n",
    "    h,k,l=(int(e) for e in mode.split()[0].split('=')[1])\n",
    "    curve = lambda osp,absn : get_rocking_curve_of_monochromator( dataname=dataname,\n",
    "                                                             hkl = (h,k,l),\n",
    "                                                             mosaicity_degree=float(mosaicity.split()[0]),\n",
    "                                                             neutron_wl=neutron_wl,\n",
    "                                                             only_selected_plane = osp,\n",
    "                                                             absorption = absn)\n",
    "    \n",
    "    \n",
    "    c = curve(True,False)\n",
    "    if not c:\n",
    "        return\n",
    "    plt.plot(*c['curve'],label=f'{len(c[\"hkl\"])*2} selected planes with selected d-spacig')\n",
    "    c_std = curve(False,False)\n",
    "    plt.plot(*c_std['curve'],label='+Other scattering')\n",
    "    plt.plot(*curve(False,True)['curve'],label='+Absorption',ls='--',lw=2)\n",
    "    plt.grid()\n",
    "    plt.xlabel('Rocking angle (degree)')\n",
    "    plt.ylabel('cross section (barn)')\n",
    "    plt.title(mode.replace('.ncmat',''))\n",
    "    plt.legend()\n",
    "    plt.show()\n",
    "    sp = ') ('.join('%i,%i,%i'%p for p in c['hkl'])\n",
    "    import textwrap\n",
    "    l=textwrap.wrap('(%s)'%sp,50)\n",
    "    print('-'*60)\n",
    "    print('Cfg-string: \"%s\"'%c_std['cfgstr'])\n",
    "    print('d-spacing: \"%g Å\"'%c_std['dhkl'])\n",
    "    print('Selected planes: %s'%l[0])\n",
    "    for e in l[1:]:\n",
    "        print('                 %s'%e)"
   ]
  },
  {
   "cell_type": "markdown",
   "id": "62",
   "metadata": {},
   "source": [
    "## References and where to find more information\n",
    "\n",
    "The available documentation for NCrystal is a work in progress, and while we still didn't consolidate this in one glorious location, there is plenty of information to be found:\n",
    "\n",
    "* The official wiki: https://github.com/mctools/ncrystal/wiki/\n",
    "  * This includes the [Data-library](https://github.com/mctools/ncrystal/wiki/Data-library) and [CfgRefDoc](https://github.com/mctools/ncrystal/wiki/CfgRecDoc) pages which most users might need.\n",
    "  * For advanced users, the offical [NCMAT format specification](https://github.com/mctools/ncrystal/wiki/NCMAT-format) is there as well, along with instructions for usage or development of optional [plugins](https://github.com/mctools/ncrystal/wiki/Plugins).\n",
    "  * Be sure to check out the various release Announcement pages you find in the sidebar, since a lot of information was described there but still didn't make it anywhere else.\n",
    "* The Python API contains doc-strings everywhere, accessible though the `help` function. Please use it!\n",
    "* All command-line tools support a `--help` flag, which will result in usage instructions being printed out.\n",
    "* For C++ developers: Lots and lots of thorough comments are left everywhere in the code.\n",
    "* The [README](https://github.com/mctools/ncrystal/blob/master/README) and [INSTALL](https://github.com/mctools/ncrystal/blob/master/INSTALL) files from the NCrystal release itself.\n",
    "* Publications (also, **please remember to cite if you use NCrystal and want to support us!**):\n",
    "  * X.-X. Cai and T. Kittelmann, NCrystal: A library for thermal neutron transport, Computer Physics Communications 246 (2020) 106851, https://doi.org/10.1016/j.cpc.2019.07.015\n",
    "  * T. Kittelmann and X.-X. Cai, Elastic neutron scattering models for NCrystal, Computer Physics Communications 267 (2021) 108082, https://doi.org/10.1016/j.cpc.2021.108082\n",
    "  * X.-X. Cai, T. Kittelmann, et. al., \"Rejection-based sampling of inelastic neutron scattering\", Journal of Computational Physics 380 (2019) 400-407, https://doi.org/10.1016/j.jcp.2018.11.043"
   ]
  },
  {
   "cell_type": "markdown",
   "id": "63",
   "metadata": {},
   "source": [
    "## How to get help\n",
    "\n",
    "There are many options for how to get help with NCrystal. We welcome all contact, but given that we are normally stretched for manpower, some means of contact are certainly easier for us to deal with than others!\n",
    "\n",
    "* **Using the discussion forum for questions or discussions**\n",
    "  * Our discussions forum at https://github.com/mctools/ncrystal/discussions is where we hope that users of all levels will ask their questions!\n",
    "  * Do not be afraid to ask \"stupid questions\". Such questions are rarely actually stupid, but often expose the need for better documentation, or real bugs in our code. Or perhaps all there is needed is another NCrystal user to share the solution they had in a similar situation.\n",
    "  * Should a question end up exposing a bug (or feature request) for NCrystal, we can also easily convert them to proper GitHub \"issues\", and include other relevant experts in the discussions.\n",
    "  * Feel free to use the forum for other NCrystal-related subjects as well.\n",
    "  * *Please sign up to \"watch\" the discussions if you are an NCrystal user that want to contribute by helping other users*\n",
    "* **Reporting bugs or feature requests**\n",
    "  * Please do so using the tracker at https://github.com/mctools/ncrystal/issues\n",
    "  * Don't worry if you don't get the meta-data of the request correct, we can fix it up later. Also don't worry if your issue is a valid one or not - we can always simply provide advice and then close the issue.\n",
    "  * Do try to include as many details as possible about your issue, so we don't have to drag them out of you.\n",
    "* **Sending emails to NCrystal developers**\n",
    "  * Of course you can do so, but please consider first if you could not use one of the other manner of contacts above.\n",
    "  * Emails can be very distracting, since in practice they must be dealt with either \"immediately\" or \"never\".\n",
    "  * We will never be upset at getting emails, but you might get a short reply asking you to post your problem in one of the GitHub channels instead.\n"
   ]
  }
 ],
 "metadata": {
  "kernelspec": {
   "display_name": "Python 3 (ipykernel)",
   "language": "python",
   "name": "python3"
  },
  "language_info": {
   "codemirror_mode": {
    "name": "ipython",
    "version": 3
   },
   "file_extension": ".py",
   "mimetype": "text/x-python",
   "name": "python",
   "nbconvert_exporter": "python",
   "pygments_lexer": "ipython3",
   "version": "3.12.3"
  }
 },
 "nbformat": 4,
 "nbformat_minor": 5
}
