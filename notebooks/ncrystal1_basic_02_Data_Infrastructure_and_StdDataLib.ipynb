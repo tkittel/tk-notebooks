{
 "cells": [
  {
   "cell_type": "markdown",
   "id": "0",
   "metadata": {
    "tags": []
   },
   "source": [
    "# NCrystal data infrastructure and standard data library\n",
    "\n",
    "In this notebook we will discuss the NCrystal data library of predefined materials, as well as the general infrastructure for such data."
   ]
  },
  {
   "cell_type": "markdown",
   "id": "1",
   "metadata": {
    "tags": []
   },
   "source": [
    "## Preamble\n",
    "Install dependencies and prepare plots. Feel free to edit as you wish:"
   ]
  },
  {
   "cell_type": "code",
   "execution_count": null,
   "id": "2",
   "metadata": {
    "tags": []
   },
   "outputs": [],
   "source": [
    "#By default we only do pip installs on Google Colab, but you\n",
    "#can set the variable in the next line to True if you need it:\n",
    "always_do_pip_installs = False\n",
    "try:\n",
    "    import google.colab as google_colab\n",
    "except ModuleNotFoundError:\n",
    "    google_colab=None#not on google colab\n",
    "if always_do_pip_installs or google_colab:\n",
    "    from importlib.util import find_spec as _fs\n",
    "    if not _fs('NCrystal'):\n",
    "        %pip -q install ncrystal ipympl numpy matplotlib\n",
    "#enable inline and interactive matplotlib plots:\n",
    "if google_colab:\n",
    "    google_colab.output.enable_custom_widget_manager()\n",
    "%matplotlib ipympl\n",
    "import matplotlib\n",
    "matplotlib.rcParams.update({\"figure.autolayout\": True})\n",
    "#always import NCrystal:\n",
    "import NCrystal as NC\n",
    "assert NC.version_num >=  3009006, \"too old NCrystal found\"\n",
    "NC.test() #< quick unit test that installation works"
   ]
  },
  {
   "cell_type": "markdown",
   "id": "3",
   "metadata": {},
   "source": [
    "## The NCrystal standard data library\n",
    "The first and foremost source, is of course materials pre-created by other scientists (be it NCrystal developers or your colleagues). Any complete NCrystal installation should include the standard data library (\"stdlib\") of NCMAT files. For the ~latest NCrystal release, it can be browsed online at the wiki: https://github.com/mctools/ncrystal/wiki/Data-library\n",
    "\n",
    "So assuming you find the material (say, zirconia) you were looking for on that page, you can as usual proceed to have a look at it:"
   ]
  },
  {
   "cell_type": "code",
   "execution_count": null,
   "id": "4",
   "metadata": {
    "tags": []
   },
   "outputs": [],
   "source": [
    "import NCrystal.plot as ncplot\n",
    "ncplot.plot_xsect('ZrO2_sg137_Zirconia.ncmat')#remember: room temperature by default"
   ]
  },
  {
   "cell_type": "markdown",
   "id": "5",
   "metadata": {},
   "source": [
    "### Physical (on-disk) and virtual files (in-memory) data\n",
    "Depending on your installation of NCrystal, the \"files\" in the standard data library might reside as physical files on-disk, or they might be \"baked in\" to the NCrystal binary library as virtual files. It should not matter to you. If you wish to get the raw content of a file, you can do so with the `createTextData` function (or via `nctool --extract` on the commandline):"
   ]
  },
  {
   "cell_type": "code",
   "execution_count": null,
   "id": "6",
   "metadata": {
    "tags": []
   },
   "outputs": [],
   "source": [
    "td = NC.createTextData('stdlib::ZrO2_sg137_Zirconia.ncmat')\n",
    "# or this way, to prevent accidentally picking up a file you downloaded,\n",
    "# edited, and left lying around in your working directory:\n",
    "# td = NC.createTextData('stdlib::ZrO2_sg137_Zirconia.ncmat')"
   ]
  },
  {
   "cell_type": "markdown",
   "id": "7",
   "metadata": {},
   "source": [
    "Note that the `stdlib::` part is optional. By specifying it, we avoid accidentally picking up a file of the same name that you might have previously downloaded, edited, and left lying around in your working directory. Anyway, what can we do with such a `TextData` object?:"
   ]
  },
  {
   "cell_type": "code",
   "execution_count": null,
   "id": "8",
   "metadata": {
    "tags": []
   },
   "outputs": [],
   "source": [
    "help(td)"
   ]
  },
  {
   "cell_type": "code",
   "execution_count": null,
   "id": "9",
   "metadata": {
    "tags": []
   },
   "outputs": [],
   "source": [
    "print(td.dataSourceName)\n",
    "print(td.lastKnownOnDiskLocation)#will be None if file does not exist on-disk\n",
    "print(td.dataType)\n",
    "print('-- contents: --')\n",
    "print(td.rawData)"
   ]
  },
  {
   "cell_type": "markdown",
   "id": "10",
   "metadata": {},
   "source": [
    "Similarly, when you yourself need to add a new NCMAT file, you do not actually have to write a physical file into your filesystem (unless you need the file to persist after your current process is done of course). You can instead simply register the associated data as a physical file in the currently running process:"
   ]
  },
  {
   "cell_type": "code",
   "execution_count": null,
   "id": "11",
   "metadata": {
    "tags": []
   },
   "outputs": [],
   "source": [
    "a_string_with_ncmat_data=\"\"\"NCMAT v7\n",
    "#Don't use this material for anything\n",
    "@DENSITY\n",
    "  1.2345 g_per_cm3\n",
    "@DYNINFO\n",
    "  element  C\n",
    "  fraction 1\n",
    "  type     freegas\n",
    "\"\"\"\n",
    "NC.registerInMemoryFileData('silly_carbon.ncmat',a_string_with_ncmat_data)"
   ]
  },
  {
   "cell_type": "code",
   "execution_count": null,
   "id": "12",
   "metadata": {
    "tags": []
   },
   "outputs": [],
   "source": [
    "print(NC.createTextData('silly_carbon.ncmat').rawData)"
   ]
  },
  {
   "cell_type": "code",
   "execution_count": null,
   "id": "13",
   "metadata": {
    "tags": []
   },
   "outputs": [],
   "source": [
    "ncplot.plot_xsect('silly_carbon.ncmat;temp=200K',mode='ekin')"
   ]
  },
  {
   "cell_type": "markdown",
   "id": "14",
   "metadata": {},
   "source": [
    "Of course, if all you wanted was to quickly plot the cross sections, you didn't need to register the file and invent a name for it. You could either do:"
   ]
  },
  {
   "cell_type": "code",
   "execution_count": null,
   "id": "15",
   "metadata": {
    "tags": []
   },
   "outputs": [],
   "source": [
    "mat_silly=NC.load(a_string_with_ncmat_data)\n",
    "mat_silly.plot()"
   ]
  },
  {
   "cell_type": "markdown",
   "id": "16",
   "metadata": {},
   "source": [
    "Or, if you really didn't need to use the material for anything else than this plot:"
   ]
  },
  {
   "cell_type": "code",
   "execution_count": null,
   "id": "17",
   "metadata": {
    "tags": []
   },
   "outputs": [],
   "source": [
    "ncplot.plot_xsect(a_string_with_ncmat_data)"
   ]
  },
  {
   "cell_type": "markdown",
   "id": "18",
   "metadata": {},
   "source": [
    "### NCrystal data source infrastructure\n",
    "As we are starting to see, the NCrystal infrastructure which serves up data files based on \"filenames\" in cfg-strings is rather flexible. The `NCrystal.datasrc` module contain many functions which can be used to fine-tune this. For instance, if you keep your own edition to a data-library in some local folder, you can add that folder to the NCrystal search path. You can either do this by setting the `NCRYSTAL_DATA_PATH` variable (*before* loading NCrystal!), which can contain multiple directories separated by semi-colons in the usual unix fashion. Or you can add a directory to this search path dynamically:"
   ]
  },
  {
   "cell_type": "code",
   "execution_count": null,
   "id": "19",
   "metadata": {
    "tags": []
   },
   "outputs": [],
   "source": [
    "import pathlib\n",
    "extra_data_dir = pathlib.Path('./myextradatafiles/')\n",
    "extra_data_dir.mkdir(exist_ok=True)\n",
    "( extra_data_dir / 'my_extra_material.ncmat' ).write_text(a_string_with_ncmat_data)"
   ]
  },
  {
   "cell_type": "code",
   "execution_count": null,
   "id": "20",
   "metadata": {
    "tags": []
   },
   "outputs": [],
   "source": [
    "!ls ./myextradatafiles"
   ]
  },
  {
   "cell_type": "code",
   "execution_count": null,
   "id": "21",
   "metadata": {
    "tags": []
   },
   "outputs": [],
   "source": [
    "import NCrystal.datasrc as ncdatasrc\n",
    "ncdatasrc.addCustomSearchDirectory(extra_data_dir)\n",
    "td = NC.createTextData('my_extra_material.ncmat')\n",
    "print(td.dataSourceName)\n",
    "print(td.lastKnownOnDiskLocation)#will be None if file is virtual (but it won't be in this case)\n",
    "print(td.dataType)\n",
    "print('-- contents: --')\n",
    "print(td.rawData)"
   ]
  },
  {
   "cell_type": "markdown",
   "id": "22",
   "metadata": {},
   "source": [
    "We have already seen how you can browse available data files via the command line with `nctool -b` or `nctool --browse`, but you can of course also do so from Python:"
   ]
  },
  {
   "cell_type": "code",
   "execution_count": null,
   "id": "23",
   "metadata": {
    "tags": []
   },
   "outputs": [],
   "source": [
    "NC.browseFiles(dump=True)"
   ]
  },
  {
   "cell_type": "markdown",
   "id": "24",
   "metadata": {
    "tags": []
   },
   "source": [
    "## Atom data\n",
    "NCrystal obviously contains an internal database of scattering lengths, cross sections and masses, of a large number of natural elements and specific isotopes. You can access this database directly if needed:"
   ]
  },
  {
   "cell_type": "code",
   "execution_count": null,
   "id": "25",
   "metadata": {
    "tags": []
   },
   "outputs": [],
   "source": [
    "NC.atomDB('Al')"
   ]
  },
  {
   "cell_type": "code",
   "execution_count": null,
   "id": "26",
   "metadata": {
    "tags": []
   },
   "outputs": [],
   "source": [
    "NC.atomDB('He3')"
   ]
  },
  {
   "cell_type": "markdown",
   "id": "27",
   "metadata": {
    "tags": []
   },
   "source": [
    "You can access the data programatically, and as always you can find inline help:"
   ]
  },
  {
   "cell_type": "code",
   "execution_count": null,
   "id": "28",
   "metadata": {
    "tags": []
   },
   "outputs": [],
   "source": [
    "data_H = NC.atomDB('H')\n",
    "data_D = NC.atomDB('D')\n",
    "print(data_H.coherentScatLen())\n",
    "print(data_D.coherentScatLen())\n",
    "help(data_H)"
   ]
  },
  {
   "cell_type": "markdown",
   "id": "29",
   "metadata": {
    "tags": []
   },
   "source": [
    "Here is how to iterate through the entire database:"
   ]
  },
  {
   "cell_type": "code",
   "execution_count": null,
   "id": "30",
   "metadata": {
    "tags": []
   },
   "outputs": [],
   "source": [
    "for e in NC.iterateAtomDB():\n",
    "    print(e)"
   ]
  },
  {
   "cell_type": "markdown",
   "id": "31",
   "metadata": {},
   "source": [
    "It is always possible to override some of these values for a particular material, or even to provide values for elements or isotopes that might be missing. This can be done either in the `@ATOMDB` section of NCMAT data (cf. https://github.com/mctools/ncrystal/wiki/NCMAT-format), or through the `atomdb` cfg-string variable (cf. https://github.com/mctools/ncrystal/wiki/CfgRefDoc). We will return to this subject when discussing the `NCMATComposer` in another Notebook."
   ]
  },
  {
   "cell_type": "markdown",
   "id": "32",
   "metadata": {},
   "source": [
    "### Gas mixtures and other on-demand NCMAT data for simple materials\n",
    "As a nice side-effect from having the flexible data source infrastructure, NCrystal also contains several plugins providing \"quick materials\": Materials so simple, that they can be expressed in a \"filename\". Rather than locating a real file, the plugin handling the request will analyse the intent expressed in the \"filename\", and dynamically compose the appropriate NCMAT data to reflect this request. The best example of this is the `\"gasmix\"` plugin, handling gas mixtures:\n",
    "\n",
    "* `\"gasmix::0.72xCO2+0.28xAr/massfractions/1.5atm/250K\"`\n",
    "* `\"gasmix::0.7xCO2+0.3xAr/0.001relhumidity\"`\n",
    "* `\"gasmix::0.7xCO2+0.3xAr/1.5atm/250K\"`\n",
    "* `\"gasmix::BF3/2atm/25C/B_is_0.95_B10_0.05_B11\"`\n",
    "* `\"gasmix::CO2\"`\n",
    "* `\"gasmix::He/1.64kgm3\"`\n",
    "* `\"gasmix::He/10bar\"`\n",
    "* `\"gasmix::air\"`\n",
    "* `\"gasmix::air/-10C/0.8atm/0.30relhumidity\"`\n",
    "\n",
    "Hopefully, you can guess what each line above would give you! The only thing to be aware about though, is that unless `/massfractions` are explicitly requested as in the first example above, the mixture is going to be by-volume (or by-mole of molecules which is the same thing in this case).\n",
    "\n",
    "You can of course always check the result by looking at the NCMAT data created in response to the request (cf. https://github.com/mctools/ncrystal/wiki/NCMAT-format). You can also load and inspect the material. First the NCMAT data:"
   ]
  },
  {
   "cell_type": "code",
   "execution_count": null,
   "id": "33",
   "metadata": {
    "tags": []
   },
   "outputs": [],
   "source": [
    "print(NC.createTextData(\"gasmix::0.7xCO2+0.3xAr/25C/0.001relhumidity\").rawData)"
   ]
  },
  {
   "cell_type": "markdown",
   "id": "34",
   "metadata": {},
   "source": [
    "Or look at the loaded `Info` object:"
   ]
  },
  {
   "cell_type": "code",
   "execution_count": null,
   "id": "35",
   "metadata": {
    "tags": []
   },
   "outputs": [],
   "source": [
    "NC.createInfo(\"gasmix::0.7xCO2+0.3xAr/25C/0.001relhumidity\").dump()"
   ]
  },
  {
   "cell_type": "markdown",
   "id": "36",
   "metadata": {},
   "source": [
    "Or plot the cross sections:"
   ]
  },
  {
   "cell_type": "code",
   "execution_count": null,
   "id": "37",
   "metadata": {
    "tags": []
   },
   "outputs": [],
   "source": [
    "ncplot.plot_xsect(\"gasmix::0.7xCO2+0.3xAr/25C/0.001relhumidity\")"
   ]
  },
  {
   "cell_type": "markdown",
   "id": "38",
   "metadata": {},
   "source": [
    "One thing you might have noticed about the dumped NCMAT data above is the section:\n",
    "```\n",
    "@TEMPERATURE\n",
    "  298.15\n",
    "```\n",
    "It means that NCrystal will refuse to let the user change the temperature of this material further, which is a safeguard against someone trying to change the temperature like this (which would give a material with the wrong density!):"
   ]
  },
  {
   "cell_type": "code",
   "execution_count": null,
   "id": "39",
   "metadata": {
    "tags": []
   },
   "outputs": [],
   "source": [
    "try:\n",
    "    NC.load(\"gasmix::0.7xCO2+0.3xAr/25C/0.001relhumidity;temp=10K\")\n",
    "except NC.NCBadInput as e:\n",
    "    print(\"NCBadInput ERROR: %s\"%e)"
   ]
  },
  {
   "cell_type": "markdown",
   "id": "40",
   "metadata": {},
   "source": [
    "The right way to modify the temperature is inside the \"filename\" part (changing `25C`->`10K`):"
   ]
  },
  {
   "cell_type": "code",
   "execution_count": null,
   "id": "41",
   "metadata": {
    "tags": []
   },
   "outputs": [],
   "source": [
    "NC.load(\"gasmix::0.7xCO2+0.3xAr/10K/0.001relhumidity\")\n"
   ]
  },
  {
   "cell_type": "markdown",
   "id": "42",
   "metadata": {},
   "source": [
    "Two other \"quick factories\" exists, which can be useful in the case where a non-gaseous material needs to be included in a simulation, but where the exact material *structure* is not important (or, not known!):\n",
    "\n",
    "* `\"freegas::Ar/2.5e-5perAa3\"`\n",
    "* `\"freegas::CF4/3.72kgm3\"`\n",
    "* `\"freegas::CO2/1.98kgm3\"`\n",
    "* `\"freegas::He/0.17kgm3/He_is_He3\"`\n",
    "* `\"solid::Al2O3/4gcm3\"`\n",
    "* `\"solid::B4C/2.52gcm3/B_is_0.95_B10_0.05_B11\"`\n",
    "* `\"solid::CH2/1gcm3\"`\n",
    "* `\"solid::Gd2O3/7.07gcm3\"`\n",
    "* `\"solid::Al2O3/4gcm3/TDebye750K_Al/TDebye1000K_O\"`\n",
    "* `\"solid::Al2O3/4gcm3/TDebye900K\"`\n"
   ]
  },
  {
   "cell_type": "markdown",
   "id": "43",
   "metadata": {},
   "source": [
    "These materials will get the density and composition which can be inferred from the strings. In the case of `freegas::` materials, all atoms will be modelled as independent free gas atoms. In a way this is no different to how materials are mostly modelled in OpenMC/Geant/MCNP/..., but it is useful to have such simple materials in NCrystal as well - not the least for when NCrystal is used standalone or in applications like McStas where there is otherwise no universal concept of a \"base material\".\n",
    "\n",
    "The `solid::` materials are very similar, but they differ in that their simplistic dynamics will be appropriate for bound atoms rather than free atoms. Such a feature was easy enough to add in NCrystal, since we can generate all dynamics of an amorphous material based on a 1D phonon DOS curve, and we simply use a simplistic phonon DOS curve as input (the Debye model)."
   ]
  }
 ],
 "metadata": {
  "kernelspec": {
   "display_name": "Python 3 (ipykernel)",
   "language": "python",
   "name": "python3"
  },
  "language_info": {
   "codemirror_mode": {
    "name": "ipython",
    "version": 3
   },
   "file_extension": ".py",
   "mimetype": "text/x-python",
   "name": "python",
   "nbconvert_exporter": "python",
   "pygments_lexer": "ipython3",
   "version": "3.12.3"
  }
 },
 "nbformat": 4,
 "nbformat_minor": 5
}
