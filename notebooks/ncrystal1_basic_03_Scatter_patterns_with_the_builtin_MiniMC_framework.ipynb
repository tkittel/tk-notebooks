{
 "cells": [
  {
   "cell_type": "markdown",
   "id": "0",
   "metadata": {
    "tags": []
   },
   "source": [
    "# Using NCrystal's builtin \"MiniMC\" framework for generating scatter patterns.\n",
    "\n",
    "In this notebook we will show how NCrystal's own builtin \"MiniMC\" framework can be used to produce get scattering patterns from NCrystal materials in simple geometries.\n",
    "\n",
    "This is intended as a light-weight alternative to using NCrystal in fully-fledged applications (e.g. McStas, OpenMC, or Geant4), and can be used to produce patterns of scattered neutrons, including effects of geometry and multiple scattering."
   ]
  },
  {
   "cell_type": "markdown",
   "id": "1",
   "metadata": {
    "tags": []
   },
   "source": [
    "## Preamble\n",
    "Install dependencies and prepare plots. Feel free to edit as you wish:"
   ]
  },
  {
   "cell_type": "code",
   "execution_count": null,
   "id": "2",
   "metadata": {
    "tags": []
   },
   "outputs": [],
   "source": [
    "#By default we only do pip installs on Google Colab, but you\n",
    "#can set the variable in the next line to True if you need it:\n",
    "always_do_pip_installs = False\n",
    "try:\n",
    "    import google.colab as google_colab\n",
    "except ModuleNotFoundError:\n",
    "    google_colab=None#not on google colab\n",
    "if always_do_pip_installs or google_colab:\n",
    "    from importlib.util import find_spec as _fs\n",
    "    if not _fs('NCrystal'):\n",
    "        %pip -q install ncrystal ipympl numpy matplotlib\n",
    "#enable inline and interactive matplotlib plots:\n",
    "if google_colab:\n",
    "    google_colab.output.enable_custom_widget_manager()\n",
    "%matplotlib ipympl\n",
    "import matplotlib\n",
    "matplotlib.rcParams.update({\"figure.autolayout\": True})\n",
    "#always import NCrystal:\n",
    "import NCrystal as NC\n",
    "assert NC.version_num >=  3009006, \"too old NCrystal found\"\n",
    "NC.test() #< quick unit test that installation works"
   ]
  },
  {
   "cell_type": "markdown",
   "id": "3",
   "metadata": {},
   "source": [
    "## Estimating multiple scattering effects with NCrystal's MiniMC\n",
    "Effects of geometry and multiple scattering is normally something that appears when NCrystal is used with a suitable frontend like McStas, OpenMC, or Geant4. The frontend application keeps track of neutron trajectories and fluxes as they propagate around in a particular geometry. However, NCrystal 3.9.0 introduced a small \"MiniMC\" frontend, in which neutrons are propagated through a single convex volume (for now just a sphere), and recorded as they come out. For now, the only source available is a monochromatic pencil beam and the only tally available is a 4pi detector showing the exit angle w.r.t. the incoming angle.\n",
    "\n",
    "It is intended to eventually add more options for geometrical shapes, neutron sources and detector tallies. But for now the simple available features already allows for insight into the physics of a NCrystal material model, including those due to multiple scattering and shadowing effects."
   ]
  },
  {
   "cell_type": "code",
   "execution_count": null,
   "id": "4",
   "metadata": {},
   "outputs": [],
   "source": [
    "import NCrystal._mmc as ncmmc\n",
    "pattern = ncmmc.quick_diffraction_pattern('AgBr_sg225_SilverBromide.ncmat;temp=200K',\n",
    "                                           neutron_energy = '1.8Aa',\n",
    "                                           material_thickness = '1cm')\n",
    "\n",
    "pattern.plot_breakdown(rebin_factor=10,logy=True)"
   ]
  },
  {
   "cell_type": "markdown",
   "id": "5",
   "metadata": {},
   "source": [
    "Note that you can get this plot same in the terminal by running:\n",
    "```\n",
    "nctool --mc 1.8Aa 1cm 'AgBr_sg225_SilverBromide.ncmat;temp=200K'\n",
    "```\n",
    "We can try a few more patterns for fun, including some single crystals:"
   ]
  },
  {
   "cell_type": "code",
   "execution_count": null,
   "id": "6",
   "metadata": {},
   "outputs": [],
   "source": [
    "def show_mmc(cfgstr,e,t,log=True):\n",
    "    pattern = ncmmc.quick_diffraction_pattern( cfgstr, neutron_energy = e, material_thickness = t )\n",
    "    pattern.plot_breakdown(rebin_factor=10,logy=log)"
   ]
  },
  {
   "cell_type": "code",
   "execution_count": null,
   "id": "7",
   "metadata": {},
   "outputs": [],
   "source": [
    "show_mmc('Al_sg225.ncmat','4.4Aa','5cm')#single Bragg edge here"
   ]
  },
  {
   "cell_type": "code",
   "execution_count": null,
   "id": "8",
   "metadata": {},
   "outputs": [],
   "source": [
    "show_mmc('LiquidWaterH2O_T293.6K.ncmat','25meV','1mm')"
   ]
  },
  {
   "cell_type": "code",
   "execution_count": null,
   "id": "9",
   "metadata": {},
   "outputs": [],
   "source": [
    "show_mmc('AgBr_sg225_SilverBromide.ncmat;temp=200K','3.4Aa','3cm')#absorbing, suppressing fwd transmission"
   ]
  },
  {
   "cell_type": "code",
   "execution_count": null,
   "id": "10",
   "metadata": {},
   "outputs": [],
   "source": [
    "show_mmc('Polyethylene_CH2.ncmat','25meV','1mm')#incoherent elastic is emitted mostly forward"
   ]
  },
  {
   "cell_type": "code",
   "execution_count": null,
   "id": "11",
   "metadata": {},
   "outputs": [],
   "source": [
    "show_mmc('gasmix::air/0.2relhumidity/25C','25meV','1meter')"
   ]
  },
  {
   "cell_type": "code",
   "execution_count": null,
   "id": "12",
   "metadata": {},
   "outputs": [],
   "source": [
    "show_mmc('''Si_sg227.ncmat\n",
    "            ;mos=1deg\n",
    "            ;dir1=@crys_hkl:1,1,1@lab:0,3,1\n",
    "            ;dir2=@crys_hkl:0,0,1@lab:0,0,1\n",
    "            ;dirtol=180deg''','5.0Aa','1cm')#notice zig-zag walk enhances transmission and reflected peaks"
   ]
  },
  {
   "cell_type": "code",
   "execution_count": null,
   "id": "13",
   "metadata": {},
   "outputs": [],
   "source": [
    "show_mmc('''C_sg194_pyrolytic_graphite.ncmat\n",
    "           ;mos=0.2deg;\n",
    "           ;dir1=@crys_hkl:0,0,2@lab:0,3,1\n",
    "           ;dir2=@crys_hkl:1,1,1@lab:0.1,0,1\n",
    "           ;dirtol=180deg''','3.5Aa','1cm')"
   ]
  }
 ],
 "metadata": {
  "kernelspec": {
   "display_name": "Python 3 (ipykernel)",
   "language": "python",
   "name": "python3"
  },
  "language_info": {
   "codemirror_mode": {
    "name": "ipython",
    "version": 3
   },
   "file_extension": ".py",
   "mimetype": "text/x-python",
   "name": "python",
   "nbconvert_exporter": "python",
   "pygments_lexer": "ipython3",
   "version": "3.12.3"
  }
 },
 "nbformat": 4,
 "nbformat_minor": 5
}
